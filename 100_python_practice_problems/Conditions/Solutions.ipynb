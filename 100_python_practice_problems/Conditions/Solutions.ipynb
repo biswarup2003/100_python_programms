{
 "cells": [
  {
   "cell_type": "markdown",
   "metadata": {},
   "source": [
    "## 1. Age Group Categorization\n",
    "Classify a person's age group: Child (< 13), Teenager (13-19), Adult (20-59), Senior (60+)."
   ]
  },
  {
   "cell_type": "code",
   "execution_count": 4,
   "metadata": {},
   "outputs": [
    {
     "name": "stdout",
     "output_type": "stream",
     "text": [
      "Adult\n"
     ]
    }
   ],
   "source": [
    "age= int(input(\"Enter the age : \"))\n",
    "\n",
    "if(age<13):\n",
    "    print(\"Child\")\n",
    "elif(age<20):\n",
    "    print(\"Teenager\")\n",
    "elif(age<60):\n",
    "    print(\"Adult\")\n",
    "else:\n",
    "    print(\"Senior\")"
   ]
  },
  {
   "cell_type": "markdown",
   "metadata": {},
   "source": [
    "## 2. Movie Ticket Pricing\n",
    "Problem: Movie tickets are priced based on age: $12 for adults (18 and over), $8 for children. Everyone gets a $2 discount on Wednesday."
   ]
  },
  {
   "cell_type": "code",
   "execution_count": 6,
   "metadata": {},
   "outputs": [
    {
     "name": "stdout",
     "output_type": "stream",
     "text": [
      "The movie ticket price for you is : $8 \n"
     ]
    }
   ],
   "source": [
    "age= int(input(\"Enter the age : \"))\n",
    "day= str(input(\"Enter the day : \"))\n",
    "\n",
    "price=12 if age>=18 else 8\n",
    "if day==\"wednesday\":\n",
    "    price-=2\n",
    "print(f\"The movie ticket price for you is : ${price} \")\n"
   ]
  },
  {
   "cell_type": "markdown",
   "metadata": {},
   "source": [
    "## 3. Grade Calculator\n",
    "Problem: Assign a letter grade based on a student's score: A (90-100), B (80-89), C (70-79), D (60-69), F (below 60)."
   ]
  },
  {
   "cell_type": "code",
   "execution_count": 5,
   "metadata": {},
   "outputs": [
    {
     "name": "stdout",
     "output_type": "stream",
     "text": [
      "Please verify your marks.\n"
     ]
    }
   ],
   "source": [
    "marks = int(input(\"Enter your marks out of 100: \"))\n",
    "\n",
    "if marks > 100 or marks < 0:\n",
    "    print(\"Please verify your marks.\")\n",
    "else:\n",
    "    if marks >= 90:\n",
    "        grade = \"A\"\n",
    "    elif marks >= 80:\n",
    "        grade = \"B\"\n",
    "    elif marks >= 70:\n",
    "        grade = \"C\"\n",
    "    elif marks >= 60:\n",
    "        grade = \"D\"\n",
    "    else:\n",
    "        grade = \"F\"\n",
    "\n",
    "    print(f\"Your grade is: {grade}\")\n"
   ]
  },
  {
   "cell_type": "markdown",
   "metadata": {},
   "source": [
    "## 4. Fruit Ripeness Checker\n",
    "Problem: Determine if a fruit is ripe, overripe, or unripe based on its color. (e.g., Banana: Green - Unripe, Yellow - Ripe, Brown - Overripe)\n"
   ]
  },
  {
   "cell_type": "code",
   "execution_count": 10,
   "metadata": {},
   "outputs": [
    {
     "name": "stdout",
     "output_type": "stream",
     "text": [
      "This banana is Ripe\n"
     ]
    }
   ],
   "source": [
    "fruit= str(input(\"Enter the fruit name : \"))\n",
    "color= str(input(\"Enter the color of fruit : \"))\n",
    "\n",
    "if color==\"green\":\n",
    "    cond=\"Unripe\"\n",
    "elif color==\"yellow\":\n",
    "    cond=\"Ripe\"\n",
    "elif color==\"brown\":\n",
    "    cond=\"Overripe\"\n",
    "else:\n",
    "    cond=\"Not Detected\"\n",
    "\n",
    "print(f\"This {fruit} is {cond}\")"
   ]
  },
  {
   "cell_type": "markdown",
   "metadata": {},
   "source": [
    "## 5. Weather Activity Suggestion\n",
    "Problem: Suggest an activity based on the weather (e.g., Sunny - Go for a walk, Rainy - Read a book, Snowy - Build a snowman)."
   ]
  },
  {
   "cell_type": "code",
   "execution_count": 6,
   "metadata": {},
   "outputs": [
    {
     "name": "stdout",
     "output_type": "stream",
     "text": [
      "Now the wether is sunny, Go for a walk\n"
     ]
    }
   ],
   "source": [
    "weather = str(input(\"Enter the weather condition : \"))\n",
    "if weather ==\"sunny\":\n",
    "    act=\"Go for a walk\"\n",
    "elif weather==\"rainy\":\n",
    "    act=\"Read a book\"\n",
    "elif weather==\"snowy\":\n",
    "    act=\"Build a snowman\"\n",
    "else:\n",
    "    act=\"Do nothing\"\n",
    "print(f\"Now the wether is {weather}, {act}\")"
   ]
  },
  {
   "cell_type": "markdown",
   "metadata": {},
   "source": [
    "## 6. Transportation Mode Selection\n",
    "Problem: Choose a mode of transportation based on the distance (e.g., <3 km: Walk, 3-15 km: Bike, >15 km: Car)."
   ]
  },
  {
   "cell_type": "code",
   "execution_count": 8,
   "metadata": {},
   "outputs": [
    {
     "name": "stdout",
     "output_type": "stream",
     "text": [
      "Your distance is 2.0, you must choose Walk\n"
     ]
    }
   ],
   "source": [
    "dist = float(input(\"Enter the distance of your destination(Km) : \"))\n",
    "if dist<3:\n",
    "    mode=\"Walk\"\n",
    "elif dist<=15:\n",
    "    mode=\"Bike\"\n",
    "elif dist>15:\n",
    "    mode=\"Car\"\n",
    "print(f\"Your distance is {dist}, you must choose {mode}\")"
   ]
  },
  {
   "cell_type": "markdown",
   "metadata": {},
   "source": [
    "## 8. Password Strength Checker\n",
    "Problem: Check if a password is \"Weak\", \"Medium\", or \"Strong\". Criteria: < 6 chars (Weak), 6-10 chars (Medium), >10 chars (Strong)."
   ]
  },
  {
   "cell_type": "code",
   "execution_count": 11,
   "metadata": {},
   "outputs": [
    {
     "name": "stdout",
     "output_type": "stream",
     "text": [
      "Your is Weak\n"
     ]
    }
   ],
   "source": [
    "password= str(input(\"Enter your password : \"))\n",
    "if len(password)<6:\n",
    "    msg=\"Weak\"\n",
    "elif len(password)<11:\n",
    "    msg=\"Medium\"\n",
    "else:\n",
    "    msg=\"Strong\"\n",
    "print(f\"Your is {msg}\")"
   ]
  },
  {
   "cell_type": "markdown",
   "metadata": {},
   "source": [
    "## 9. Leap Year Checker\n",
    "Problem: Determine if a year is a leap year. (Leap years are divisible by 4, but not by 100 unless also divisible by 400)."
   ]
  },
  {
   "cell_type": "code",
   "execution_count": 12,
   "metadata": {},
   "outputs": [
    {
     "name": "stdout",
     "output_type": "stream",
     "text": [
      "2024 is Leap year\n"
     ]
    }
   ],
   "source": [
    "year =int(input(\"Enter the year : \"))\n",
    "\n",
    "if(year%400==0) or (year%4==0 and year%100 != 0):\n",
    "    msg=\"Leap year\"\n",
    "else:\n",
    "    msg=\"Not leap year\"\n",
    "print(f\"{year} is {msg}\")"
   ]
  },
  {
   "cell_type": "markdown",
   "metadata": {},
   "source": [
    "## 10. Pet Food Recommendation\n",
    "Problem: Recommend a type of pet food based on the pet's species and age. (e.g., Dog: <2 years - Puppy food, Cat: >5 years - Senior cat food)."
   ]
  },
  {
   "cell_type": "markdown",
   "metadata": {},
   "source": []
  }
 ],
 "metadata": {
  "kernelspec": {
   "display_name": "Python 3",
   "language": "python",
   "name": "python3"
  },
  "language_info": {
   "codemirror_mode": {
    "name": "ipython",
    "version": 3
   },
   "file_extension": ".py",
   "mimetype": "text/x-python",
   "name": "python",
   "nbconvert_exporter": "python",
   "pygments_lexer": "ipython3",
   "version": "3.12.2"
  }
 },
 "nbformat": 4,
 "nbformat_minor": 2
}

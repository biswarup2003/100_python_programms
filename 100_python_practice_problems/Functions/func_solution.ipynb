{
 "cells": [
  {
   "cell_type": "markdown",
   "metadata": {},
   "source": [
    "## 1. Basic Function Syntax\n",
    "Problem: Write a function to calculate and return the square of a number."
   ]
  },
  {
   "cell_type": "code",
   "execution_count": 4,
   "metadata": {},
   "outputs": [
    {
     "name": "stdout",
     "output_type": "stream",
     "text": [
      " Result of the base '3' and Exponant '3' is: 27\n"
     ]
    }
   ],
   "source": [
    "import math\n",
    "\n",
    "def cal_num(base,exp):\n",
    "    print(f\" Result of the base '{base}' and Exponant '{exp}' is: {int(math.pow(base,exp))}\")\n",
    "    return\n",
    "\n",
    "base=int(input(\"Enter the base number : \"))\n",
    "exp=int(input(\"Enter the exponant value : \"))\n",
    "cal_num(base,exp)\n"
   ]
  },
  {
   "cell_type": "markdown",
   "metadata": {},
   "source": [
    "## Polymorphism in Functions\n",
    "Problem: Write a function multiply that multiplies two numbers, but can also accept and multiply strings.\n"
   ]
  },
  {
   "cell_type": "code",
   "execution_count": 6,
   "metadata": {},
   "outputs": [
    {
     "name": "stdout",
     "output_type": "stream",
     "text": [
      "10\n",
      "aaaaa\n",
      "aa\n"
     ]
    }
   ],
   "source": [
    "def multiply(a,b):\n",
    "    return(a*b)\n",
    "\n",
    "print(multiply(2,5))\n",
    "print(multiply('a',5))\n",
    "print(multiply(2,'a'))"
   ]
  },
  {
   "cell_type": "markdown",
   "metadata": {},
   "source": [
    "## 4. Function Returning Multiple Values\n",
    "Problem: Create a function that returns both the area and circumference of a circle given its radius.\n"
   ]
  },
  {
   "cell_type": "code",
   "execution_count": 11,
   "metadata": {},
   "outputs": [
    {
     "name": "stdout",
     "output_type": "stream",
     "text": [
      "Area of the circle is : 3.14\n",
      "Circumference is : 6.28\n"
     ]
    }
   ],
   "source": [
    "import math\n",
    "def circle(rad):\n",
    "    area=(math.pi*math.pow(rad,2))\n",
    "    perimeter=2*math.pi*rad\n",
    "    print(f\"Area of the circle is : {area:.2f}\\nCircumference is : {perimeter:.2f}\")\n",
    "    return\n",
    "\n",
    "rad=float(input(\"Enter the radius of the circle : \"))\n",
    "circle(rad)"
   ]
  },
  {
   "cell_type": "markdown",
   "metadata": {},
   "source": [
    "## 5. Default Parameter Value\n",
    "Problem: Write a function that greets a user. If no name is provided, it should greet with a default name."
   ]
  },
  {
   "cell_type": "code",
   "execution_count": 17,
   "metadata": {},
   "outputs": [
    {
     "name": "stdout",
     "output_type": "stream",
     "text": [
      "Hello! Have a nice day biswa\n",
      "Hello! Have a nice day user\n"
     ]
    }
   ],
   "source": [
    "def greet(name='user'): # assign a default value to parameter\n",
    "    print(f\"Hello! Have a nice day {name}\")\n",
    "\n",
    "greet('biswa')\n",
    "greet()"
   ]
  },
  {
   "cell_type": "markdown",
   "metadata": {},
   "source": [
    "## 6. Lambda Function\n",
    "Problem: Create a lambda function to compute the cube of a number."
   ]
  },
  {
   "cell_type": "code",
   "execution_count": 24,
   "metadata": {},
   "outputs": [
    {
     "name": "stdout",
     "output_type": "stream",
     "text": [
      "125\n"
     ]
    }
   ],
   "source": [
    "import math\n",
    "cube = lambda num: math.pow(num,3)\n",
    "print(int(cube(5.0)))\n"
   ]
  },
  {
   "cell_type": "markdown",
   "metadata": {},
   "source": [
    "## 7. Function with *args\n",
    "Problem: Write a function that takes variable number of arguments and returns their sum."
   ]
  },
  {
   "cell_type": "code",
   "execution_count": 29,
   "metadata": {},
   "outputs": [
    {
     "name": "stdout",
     "output_type": "stream",
     "text": [
      "1+3+2+5+3+5 = 19\n"
     ]
    }
   ],
   "source": [
    "def sum_all(*args):\n",
    "    expression = '+'.join(map(str, args)) # to display the output like 1+2+3+4....\n",
    "    print(f\"{expression} = {sum(args)}\")\n",
    "    \n",
    "\n",
    "sum_all(1,3,2,5,3,5)\n"
   ]
  },
  {
   "cell_type": "markdown",
   "metadata": {},
   "source": [
    "## 8. Function with **kwargs\n",
    "Problem: Create a function that accepts any number of keyword arguments and prints them in the format key: value."
   ]
  },
  {
   "cell_type": "code",
   "execution_count": 33,
   "metadata": {},
   "outputs": [
    {
     "name": "stdout",
     "output_type": "stream",
     "text": [
      "name : bheem\n",
      "food : laddu\n",
      "fav_girl : chutki\n",
      "name : raju\n",
      "food : laddu\n"
     ]
    }
   ],
   "source": [
    "def details(**kwargs):\n",
    "    for key,value in kwargs.items():\n",
    "        print(f\"{key} : {value}\")\n",
    "\n",
    "details(name=\"bheem\", food=\"laddu\", fav_girl=\"chutki\")\n",
    "details(name=\"raju\", food=\"laddu\")        \n"
   ]
  },
  {
   "cell_type": "markdown",
   "metadata": {},
   "source": [
    "## 9. Generator Function with yield\n",
    "Problem: Write a generator function that yields even numbers up to a specified limit."
   ]
  },
  {
   "cell_type": "code",
   "execution_count": 39,
   "metadata": {},
   "outputs": [
    {
     "name": "stdout",
     "output_type": "stream",
     "text": [
      "2\n",
      "4\n",
      "6\n",
      "8\n",
      "10\n"
     ]
    }
   ],
   "source": [
    "    def even(limit):\n",
    "        for i in range(2, limit+1, 2):\n",
    "            yield i\n",
    "    for j in even(10):\n",
    "        print(j)"
   ]
  },
  {
   "cell_type": "markdown",
   "metadata": {},
   "source": [
    "## 10. Recursive Function\n",
    "Problem: Create a recursive function to calculate the factorial of a number."
   ]
  },
  {
   "cell_type": "code",
   "execution_count": 41,
   "metadata": {},
   "outputs": [
    {
     "name": "stdout",
     "output_type": "stream",
     "text": [
      "120\n"
     ]
    }
   ],
   "source": [
    "def fact(num):\n",
    "    if num==0:\n",
    "        return 1\n",
    "    else:\n",
    "        return num*fact(num-1)\n",
    "\n",
    "print(fact(5))"
   ]
  },
  {
   "cell_type": "code",
   "execution_count": null,
   "metadata": {},
   "outputs": [],
   "source": []
  }
 ],
 "metadata": {
  "kernelspec": {
   "display_name": "Python 3",
   "language": "python",
   "name": "python3"
  },
  "language_info": {
   "codemirror_mode": {
    "name": "ipython",
    "version": 3
   },
   "file_extension": ".py",
   "mimetype": "text/x-python",
   "name": "python",
   "nbconvert_exporter": "python",
   "pygments_lexer": "ipython3",
   "version": "3.12.5"
  }
 },
 "nbformat": 4,
 "nbformat_minor": 2
}

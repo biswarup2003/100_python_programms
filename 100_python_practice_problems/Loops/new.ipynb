{
 "cells": [
  {
   "cell_type": "markdown",
   "metadata": {},
   "source": [
    "## 5. Find the First Non-Repeated Character\n",
    "Problem: Given a string, find the first non-repeated character."
   ]
  },
  {
   "cell_type": "code",
   "execution_count": 7,
   "metadata": {},
   "outputs": [
    {
     "name": "stdout",
     "output_type": "stream",
     "text": [
      "t\n",
      "e\n",
      "e\n",
      "t\n",
      "h\n",
      "The first non-repeatable character of 'teeth' is : h\n"
     ]
    }
   ],
   "source": [
    "strn= str(input(\"Enter string :\"))\n",
    "for i in strn:\n",
    "    print(i)\n",
    "    if strn.count(i)==1:\n",
    "        print(f\"The first non-repeatable character of '{strn}' is : {i}\")\n",
    "        break"
   ]
  },
  {
   "cell_type": "markdown",
   "metadata": {},
   "source": [
    "## 6. Factorial Calculator\n",
    "Problem: Compute the factorial of a number using a while loop."
   ]
  },
  {
   "cell_type": "code",
   "execution_count": 13,
   "metadata": {},
   "outputs": [
    {
     "name": "stdout",
     "output_type": "stream",
     "text": [
      "Factorial of 5 is : 120\n"
     ]
    }
   ],
   "source": [
    "num=int(input(\"Enter the number range : \"))\n",
    "temp=num\n",
    "fact=1\n",
    "while num>0:\n",
    "    fact*=num\n",
    "    num-=1\n",
    "print(f\"Factorial of {temp} is : {fact}\")"
   ]
  },
  {
   "cell_type": "markdown",
   "metadata": {},
   "source": [
    "## 7. Validate Input\n",
    "Problem: Keep asking the user for input until they enter a number between 1 and 10."
   ]
  },
  {
   "cell_type": "code",
   "execution_count": 18,
   "metadata": {},
   "outputs": [
    {
     "name": "stdout",
     "output_type": "stream",
     "text": [
      "Invalid input!! You enter : 25\n",
      "Try again...\n",
      "Invalid input!! You enter : 36\n",
      "Try again...\n",
      "Invalid input!! You enter : 89\n",
      "Try again...\n",
      "Invalid input!! You enter : 94\n",
      "Try again...\n",
      "Thanks you enter : 2\n"
     ]
    }
   ],
   "source": [
    "while True:\n",
    "    num = int(input(\"Enter the number : \"))\n",
    "    if 1<= num <= 10:\n",
    "        print(f\"Thanks you enter : {num}\")\n",
    "        break\n",
    "    else:\n",
    "        print(f\"Invalid input!! You enter : {num}\\nTry again...\")"
   ]
  },
  {
   "cell_type": "markdown",
   "metadata": {},
   "source": [
    "## 8. Prime Number Checker\n",
    "Problem: Check if a number is prime."
   ]
  },
  {
   "cell_type": "code",
   "execution_count": 29,
   "metadata": {},
   "outputs": [
    {
     "name": "stdout",
     "output_type": "stream",
     "text": [
      "5 is Prime : True\n"
     ]
    }
   ],
   "source": [
    "num = int(input(\"Enter the number : \"))\n",
    "is_prime=True\n",
    "if num>1:\n",
    "    for i in range(2,num):\n",
    "        if (num%i)==0:\n",
    "            is_prime=False\n",
    "            break\n",
    "print(f\"{num} is Prime : {is_prime}\")\n"
   ]
  },
  {
   "cell_type": "markdown",
   "metadata": {},
   "source": [
    "## 9. List Uniqueness Checker\n",
    "Problem: Check if all elements in a list are unique. If a duplicate is found, exit the loop and print the duplicate.\n",
    "\n",
    "items = [\"apple\", \"banana\", \"orange\", \"apple\", \"mango\"]"
   ]
  },
  {
   "cell_type": "code",
   "execution_count": 33,
   "metadata": {},
   "outputs": [
    {
     "name": "stdout",
     "output_type": "stream",
     "text": [
      "Input string : ['1', '2', '3', '1', '4', '52']\n",
      "Duplicate found: 1\n"
     ]
    }
   ],
   "source": [
    "def check_unique(strn):\n",
    "    unique_set=set()\n",
    "\n",
    "    for i in strn:\n",
    "        if i in unique_set:\n",
    "            print(f\"Duplicate value found : {i}\")\n",
    "            return\n",
    "        else:\n",
    "            unique_set.add(i)\n",
    "    print(\"All elements are uniuqe\")\n",
    "\n",
    "strn=str(input(\"Enter elements seperated by spaces : \"))\n",
    "a=strn.split()\n",
    "print(f\"Input string : {a}\")\n",
    "check_unique_elements(a)"
   ]
  },
  {
   "cell_type": "markdown",
   "metadata": {},
   "source": [
    "## 10. Exponential Backoff\n",
    "Problem: Implement an exponential backoff strategy that doubles the wait time between retries, starting from 1 second, but stops after 5 retries."
   ]
  },
  {
   "cell_type": "code",
   "execution_count": 36,
   "metadata": {},
   "outputs": [
    {
     "name": "stdout",
     "output_type": "stream",
     "text": [
      "Attempt : 1  Wait time : 1\n",
      "Attempt : 2  Wait time : 2\n",
      "Attempt : 3  Wait time : 4\n",
      "Attempt : 4  Wait time : 8\n",
      "Attempt : 5  Wait time : 16\n"
     ]
    }
   ],
   "source": [
    "import time\n",
    "\n",
    "max_attempts=5\n",
    "attempts=0\n",
    "wait_time=1\n",
    "\n",
    "while attempts<max_attempts:\n",
    "    print(f\"Attempt : {attempts+1}  Wait time : {wait_time}\")\n",
    "    time.sleep(wait_time)\n",
    "    wait_time*=2\n",
    "    attempts+=1"
   ]
  },
  {
   "cell_type": "code",
   "execution_count": null,
   "metadata": {},
   "outputs": [],
   "source": []
  }
 ],
 "metadata": {
  "kernelspec": {
   "display_name": "Python 3",
   "language": "python",
   "name": "python3"
  },
  "language_info": {
   "codemirror_mode": {
    "name": "ipython",
    "version": 3
   },
   "file_extension": ".py",
   "mimetype": "text/x-python",
   "name": "python",
   "nbconvert_exporter": "python",
   "pygments_lexer": "ipython3",
   "version": "3.12.5"
  }
 },
 "nbformat": 4,
 "nbformat_minor": 2
}

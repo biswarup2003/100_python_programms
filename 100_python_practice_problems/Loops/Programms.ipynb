{
 "cells": [
  {
   "cell_type": "markdown",
   "metadata": {},
   "source": [
    "## 1. Counting Positive Numbers\n",
    "Problem: Given a list of numbers, count how many are positive.\n",
    "numbers = [1, -2, 3, -4, 5, 6, -7, -8, 9, 10]"
   ]
  },
  {
   "cell_type": "code",
   "execution_count": 2,
   "metadata": {},
   "outputs": [
    {
     "name": "stdout",
     "output_type": "stream",
     "text": [
      "Counting of positive numbers are : 7 \n"
     ]
    }
   ],
   "source": [
    "num={1, -2, 3, -4, 5, 6, -7, -8, 9, 10,11}\n",
    "count=0\n",
    "for i in num:\n",
    "    if(i>0):\n",
    "        count+=1\n",
    "    else:\n",
    "        i+=1\n",
    "print(f\"Counting of positive numbers are : {count} \")\n",
    "    "
   ]
  },
  {
   "cell_type": "markdown",
   "metadata": {},
   "source": [
    "## 2. Sum of Even Numbers\n",
    "Problem: Calculate the sum of even numbers up to a given number n."
   ]
  },
  {
   "cell_type": "code",
   "execution_count": 11,
   "metadata": {},
   "outputs": [
    {
     "name": "stdout",
     "output_type": "stream",
     "text": [
      "The sum of even numbers from 0 to 5 is : 6\n"
     ]
    }
   ],
   "source": [
    "rang= int(input(\"Enter the range : \"))\n",
    "sum=0\n",
    "for i in range(1,rang+1):\n",
    "    if(i%2==0):\n",
    "        sum=sum+i\n",
    "    else:\n",
    "        i+=1\n",
    "print(f\"The sum of even numbers from 0 to {rang} is : {sum}\")"
   ]
  },
  {
   "cell_type": "markdown",
   "metadata": {},
   "source": [
    "## 3. Multiplication Table Printer\n",
    "Problem: Print the multiplication table for a given number up to 10, but skip the fifth iteration."
   ]
  },
  {
   "cell_type": "code",
   "execution_count": 9,
   "metadata": {},
   "outputs": [
    {
     "name": "stdout",
     "output_type": "stream",
     "text": [
      "5 × 1 = 5\n",
      "5 × 2 = 10\n",
      "5 × 3 = 15\n",
      "5 × 4 = 20\n",
      "5 × 6 = 30\n",
      "5 × 7 = 35\n",
      "5 × 8 = 40\n",
      "5 × 9 = 45\n",
      "5 × 10 = 50\n"
     ]
    }
   ],
   "source": [
    "num= int(input(\"Enter the number : \"))\n",
    "for i in range(1,11):\n",
    "    if(i==5):\n",
    "        continue\n",
    "    print(f\"{num} × {i} = {num*i}\")\n"
   ]
  },
  {
   "cell_type": "markdown",
   "metadata": {},
   "source": [
    "## 4. Reverse a String\n",
    "Problem: Reverse a string using a loop."
   ]
  },
  {
   "cell_type": "code",
   "execution_count": 16,
   "metadata": {},
   "outputs": [
    {
     "name": "stdout",
     "output_type": "stream",
     "text": [
      "The reverse of the string biswarup is : purawsib\n"
     ]
    }
   ],
   "source": [
    "strn=str(input(\"Enter a String : \"))\n",
    "reversed_strn=\"\"\n",
    "for i in strn:\n",
    "    reversed_strn=i+reversed_strn\n",
    "print(f\"The reverse of the string {strn} is : {reversed_strn}\")"
   ]
  },
  {
   "cell_type": "code",
   "execution_count": null,
   "metadata": {},
   "outputs": [],
   "source": []
  }
 ],
 "metadata": {
  "kernelspec": {
   "display_name": "Python 3",
   "language": "python",
   "name": "python3"
  },
  "language_info": {
   "codemirror_mode": {
    "name": "ipython",
    "version": 3
   },
   "file_extension": ".py",
   "mimetype": "text/x-python",
   "name": "python",
   "nbconvert_exporter": "python",
   "pygments_lexer": "ipython3",
   "version": "3.12.2"
  }
 },
 "nbformat": 4,
 "nbformat_minor": 2
}

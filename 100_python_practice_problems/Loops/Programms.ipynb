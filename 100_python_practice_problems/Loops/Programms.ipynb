{
 "cells": [
  {
   "cell_type": "markdown",
   "metadata": {},
   "source": [
    "## 1. Counting Positive Numbers\n",
    "Problem: Given a list of numbers, count how many are positive.\n",
    "numbers = [1, -2, 3, -4, 5, 6, -7, -8, 9, 10]"
   ]
  },
  {
   "cell_type": "code",
   "execution_count": null,
   "metadata": {},
   "outputs": [],
   "source": [
    "num={1, -2, 3, -4, 5, 6, -7, -8, 9, 10}\n",
    "count=0\n",
    "for i in num:\n",
    "    if(i>0):\n",
    "        count+=1\n",
    "    else:\n",
    "        i++\n",
    "print(f\"Counting of positive numbers are : {count} \")\n",
    "    "
   ]
  },
  {
   "cell_type": "code",
   "execution_count": null,
   "metadata": {},
   "outputs": [],
   "source": []
  }
 ],
 "metadata": {
  "language_info": {
   "name": "python"
  }
 },
 "nbformat": 4,
 "nbformat_minor": 2
}

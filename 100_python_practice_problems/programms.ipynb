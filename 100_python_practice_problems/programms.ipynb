{
 "cells": [
  {
   "cell_type": "markdown",
   "metadata": {},
   "source": [
    "## 1. Add two Numbers"
   ]
  },
  {
   "cell_type": "code",
   "execution_count": 3,
   "metadata": {},
   "outputs": [
    {
     "name": "stdout",
     "output_type": "stream",
     "text": [
      "result :  55.0\n"
     ]
    }
   ],
   "source": [
    "num1= float(input(\"Enter first number : \"))\n",
    "num2= float(input(\"Enter second number : \"))\n",
    "result= num1+num2\n",
    "print(\"result : \", result)"
   ]
  },
  {
   "cell_type": "markdown",
   "metadata": {},
   "source": [
    "## 2. Find squre root value of a number "
   ]
  },
  {
   "cell_type": "code",
   "execution_count": 8,
   "metadata": {},
   "outputs": [
    {
     "name": "stdout",
     "output_type": "stream",
     "text": [
      "Result :  7.0\n"
     ]
    }
   ],
   "source": [
    "import math\n",
    "\n",
    "def sqr(n):\n",
    "    result = math.sqrt(n)\n",
    "    return result\n",
    "\n",
    "num = int(input(\"Enter a number : \"))\n",
    "print(\"Result : \",sqr(num))\n"
   ]
  },
  {
   "cell_type": "markdown",
   "metadata": {},
   "source": [
    "## 3. Calculate area of triangle "
   ]
  },
  {
   "cell_type": "code",
   "execution_count": 12,
   "metadata": {},
   "outputs": [
    {
     "name": "stdout",
     "output_type": "stream",
     "text": [
      "Area of the triangle is :  34.375\n"
     ]
    }
   ],
   "source": [
    "def area(b,h):\n",
    "    result= (0.5)*b*h\n",
    "    return result\n",
    "\n",
    "base= float(input(\"Enter the base value of triangle : \"))\n",
    "height= float(input(\"Enter the height value of traiangle : \"))\n",
    "print(\"Area of the triangle is : \",area(base,height))"
   ]
  },
  {
   "cell_type": "markdown",
   "metadata": {},
   "source": [
    "## 4. Solve quadratic equation"
   ]
  },
  {
   "cell_type": "code",
   "execution_count": 6,
   "metadata": {},
   "outputs": [
    {
     "name": "stdout",
     "output_type": "stream",
     "text": [
      " Roots are : (-1.25-1.0307764064044151j) and (-1.25+1.0307764064044151j) \n"
     ]
    }
   ],
   "source": [
    "# quadratic equation  : ax^2 + bx + c\n",
    "# a,b,c are real numbers\n",
    "# a!=0\n",
    "import cmath\n",
    "\n",
    "a= int(input(\"Enter the value of 'a' : \"))\n",
    "b= int(input(\"Enter the value of 'b' : \"))\n",
    "c= int(input(\"Enter the value of 'c' : \"))\n",
    "\n",
    "if(a==0):\n",
    "    print(\"The value of 'a' should not be '0' \")\n",
    "else :\n",
    "    # calculate thee value of d \n",
    "    d= (b^2)-(4*a*c)\n",
    "\n",
    "    root1 = (-b-cmath.sqrt(d))/(2*a)\n",
    "    root2 = (-b+cmath.sqrt(d))/(2*a)\n",
    "    print(f\" Roots are : {root1} and {root2} \")"
   ]
  },
  {
   "cell_type": "markdown",
   "metadata": {},
   "source": [
    "## 5. Swap two variables"
   ]
  },
  {
   "cell_type": "code",
   "execution_count": 12,
   "metadata": {},
   "outputs": [
    {
     "name": "stdout",
     "output_type": "stream",
     "text": [
      "before swap : 5 , 3\n",
      "After swap : 3, 5\n"
     ]
    }
   ],
   "source": [
    "num1 = int(input(\"Enter the 1st number : \"))\n",
    "num2 =  int(input(\"Enter the 2nd number : \"))\n",
    "temp =0\n",
    "print(f\"before swap : {num1} , {num2}\")\n",
    "temp=num1\n",
    "num1 = num2\n",
    "num2= temp\n",
    "\n",
    "print(f\"After swap : {num1}, {num2}\")\n"
   ]
  },
  {
   "cell_type": "code",
   "execution_count": 1,
   "metadata": {},
   "outputs": [
    {
     "name": "stdout",
     "output_type": "stream",
     "text": [
      "before swap : 2 , 6\n",
      "After swap : 6, 2\n"
     ]
    }
   ],
   "source": [
    "# Without using third variable \n",
    "num1= int(input(\"Enter the 1st number : \"))\n",
    "num2= int(input(\"Enter the 2nd number : \"))\n",
    "print(f\"before swap : {num1} , {num2}\")\n",
    "num1,num2 = num2,num1\n",
    "print(f\"After swap : {num1}, {num2}\")\n"
   ]
  },
  {
   "cell_type": "code",
   "execution_count": null,
   "metadata": {},
   "outputs": [],
   "source": [
    "# Without using third variable \n",
    "num1= int(input(\"Enter the 1st number : \"))\n",
    "num2= int(input(\"Enter the 2nd number : \"))\n",
    "print(f\"before swap : {num1} , {num2}\")\n",
    "num1,num2 = num2,num1\n",
    "print(f\"After swap : {num1}, {num2}\")"
   ]
  },
  {
   "cell_type": "markdown",
   "metadata": {},
   "source": [
    "## 6. Generate random number "
   ]
  },
  {
   "cell_type": "code",
   "execution_count": 7,
   "metadata": {},
   "outputs": [
    {
     "name": "stdout",
     "output_type": "stream",
     "text": [
      "6\n"
     ]
    }
   ],
   "source": [
    "import random\n",
    "num=random.randint(1,6)\n",
    "print(num)"
   ]
  },
  {
   "cell_type": "markdown",
   "metadata": {},
   "source": [
    "## 7. convert kilometer to miles"
   ]
  },
  {
   "cell_type": "code",
   "execution_count": 16,
   "metadata": {},
   "outputs": [
    {
     "name": "stdout",
     "output_type": "stream",
     "text": [
      "Distance in kilometers: 16.09\n"
     ]
    }
   ],
   "source": [
    "def conv_to_miles():\n",
    "    num = float(input(\"Enter the distance in kilometer : \"))\n",
    "    result=num*0.621371\n",
    "    print(f\"Distance in miles: {result:.2f}\")\n",
    "    \n",
    "\n",
    "def conv_to_kilom():\n",
    "    num = float(input(\"Enter the distance in miles : \"))\n",
    "    result=num*1.609344\n",
    "    print(f\"Distance in kilometers: {result:.2f}\")\n",
    "\n",
    "def switch(ch):\n",
    "    if ch==1:\n",
    "        conv_to_miles()\n",
    "    elif ch==2:\n",
    "        conv_to_kilom()\n",
    "    else:\n",
    "        print(\"Wrong choice\")\n",
    "\n",
    "ch=int(input(\"Enter 1 for convert miles and 2 for convert to kilometers : \"))\n",
    "switch(ch)"
   ]
  },
  {
   "cell_type": "markdown",
   "metadata": {},
   "source": [
    "## 8. convert celsious to fehrenheit"
   ]
  },
  {
   "cell_type": "code",
   "execution_count": 4,
   "metadata": {},
   "outputs": [
    {
     "name": "stdout",
     "output_type": "stream",
     "text": [
      "result : 212.0 \n"
     ]
    }
   ],
   "source": [
    "def conv(n):\n",
    "    ferh = ((9/5)*n) + 32.\n",
    "    return(ferh)\n",
    "\n",
    "num=float(input(\"enter the values in celsious : \"))\n",
    "print(f\"result : {conv(num)} \")"
   ]
  },
  {
   "cell_type": "markdown",
   "metadata": {},
   "source": [
    "## 9. check number positive or negetive\n"
   ]
  },
  {
   "cell_type": "code",
   "execution_count": 11,
   "metadata": {},
   "outputs": [
    {
     "name": "stdout",
     "output_type": "stream",
     "text": [
      "This is Zero\n"
     ]
    }
   ],
   "source": [
    "def check(n):\n",
    "    if(n<0):\n",
    "        print(\"This is a negetive number\")\n",
    "    elif(n>0):\n",
    "        print(\"This is a positive number\")\n",
    "    else :\n",
    "        print(\"This is Zero\")\n",
    "\n",
    "num = float(input(\"enter any number : \"))\n",
    "check(num)"
   ]
  },
  {
   "cell_type": "markdown",
   "metadata": {},
   "source": [
    "## 10. check the number odd or even"
   ]
  },
  {
   "cell_type": "code",
   "execution_count": 19,
   "metadata": {},
   "outputs": [
    {
     "name": "stdout",
     "output_type": "stream",
     "text": [
      "6 is an Even number\n"
     ]
    }
   ],
   "source": [
    "def check(n):\n",
    "    if n.is_integer():  # Check if the number is mathematically an integer\n",
    "        n = int(n)  # Convert to integer if it's effectively an integer\n",
    "        if n % 2 == 0:\n",
    "            print(f\"{n} is an Even number\")\n",
    "        else:\n",
    "            print(f\"{n} is an Odd number\")\n",
    "    else:\n",
    "        print(f\"{n} is not an integer and cannot be classified as Even or Odd\")\n",
    "\n",
    "num = float(input(\"Enter any number: \"))\n",
    "check(num)\n"
   ]
  },
  {
   "cell_type": "markdown",
   "metadata": {},
   "source": [
    "## 11. check leap year"
   ]
  },
  {
   "cell_type": "code",
   "execution_count": 24,
   "metadata": {},
   "outputs": [
    {
     "name": "stdout",
     "output_type": "stream",
     "text": [
      "1900 is not a leap year\n"
     ]
    }
   ],
   "source": [
    "def leap(y):\n",
    "    if(y%4==0 and y%100!=0):\n",
    "        print(f\"{y} is a Leap year\")\n",
    "    elif(y%400==0):\n",
    "        print(f\"{y} is a Leap year\")\n",
    "    else:\n",
    "        print(f\"{y} is not a leap year\")\n",
    "    \n",
    "year=int(input(\"Enter any year : \"))\n",
    "leap(year)"
   ]
  },
  {
   "cell_type": "markdown",
   "metadata": {},
   "source": [
    "## 12. find largest among three numbers"
   ]
  },
  {
   "cell_type": "code",
   "execution_count": 25,
   "metadata": {},
   "outputs": [
    {
     "name": "stdout",
     "output_type": "stream",
     "text": [
      "5 is the biggest number\n"
     ]
    }
   ],
   "source": [
    "def max(a,b,c):\n",
    "    if(a>b and a>c):\n",
    "        print(f\"{a} is the biggest number\")\n",
    "    elif(b>a and b>c):\n",
    "        print(f\"{b} is the biggest number\")\n",
    "    else:\n",
    "        print(f\"{c} is the biggest number\")\n",
    "\n",
    "num1=int(input(\"Enter 1st number : \"))\n",
    "num2=int(input(\"Enter 2nd number : \"))\n",
    "num3=int(input(\"Enter 3rd number : \"))\n",
    "max(num1,num2,num3)"
   ]
  },
  {
   "cell_type": "markdown",
   "metadata": {},
   "source": [
    "## 13. Check prime number"
   ]
  },
  {
   "cell_type": "code",
   "execution_count": null,
   "metadata": {},
   "outputs": [],
   "source": [
    "def prime(n):\n",
    "    if(n==1):\n",
    "        print(\"this is not a prime number\")\n",
    "    for i in range(1,n+1):\n",
    "        if(n%i==0):\n"
   ]
  }
 ],
 "metadata": {
  "kernelspec": {
   "display_name": "Python 3 (ipykernel)",
   "language": "python",
   "name": "python3"
  },
  "language_info": {
   "codemirror_mode": {
    "name": "ipython",
    "version": 3
   },
   "file_extension": ".py",
   "mimetype": "text/x-python",
   "name": "python",
   "nbconvert_exporter": "python",
   "pygments_lexer": "ipython3",
   "version": "3.10.13"
  }
 },
 "nbformat": 4,
 "nbformat_minor": 2
}

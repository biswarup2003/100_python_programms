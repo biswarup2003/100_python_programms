{
 "cells": [
  {
   "cell_type": "markdown",
   "metadata": {},
   "source": [
    "## 1. Add two Numbers"
   ]
  },
  {
   "cell_type": "code",
   "execution_count": 3,
   "metadata": {},
   "outputs": [
    {
     "name": "stdout",
     "output_type": "stream",
     "text": [
      "result :  55.0\n"
     ]
    }
   ],
   "source": [
    "num1= float(input(\"Enter first number : \"))\n",
    "num2= float(input(\"Enter second number : \"))\n",
    "result= num1+num2\n",
    "print(\"result : \", result)"
   ]
  },
  {
   "cell_type": "markdown",
   "metadata": {},
   "source": [
    "## 2. Find squre root value of a number "
   ]
  },
  {
   "cell_type": "code",
   "execution_count": 8,
   "metadata": {},
   "outputs": [
    {
     "name": "stdout",
     "output_type": "stream",
     "text": [
      "Result :  7.0\n"
     ]
    }
   ],
   "source": [
    "import math\n",
    "\n",
    "def sqr(n):\n",
    "    result = math.sqrt(n)\n",
    "    return result\n",
    "\n",
    "num = int(input(\"Enter a number : \"))\n",
    "print(\"Result : \",sqr(num))\n"
   ]
  },
  {
   "cell_type": "markdown",
   "metadata": {},
   "source": [
    "## 3. Calculate area of triangle "
   ]
  },
  {
   "cell_type": "code",
   "execution_count": 12,
   "metadata": {},
   "outputs": [
    {
     "name": "stdout",
     "output_type": "stream",
     "text": [
      "Area of the triangle is :  34.375\n"
     ]
    }
   ],
   "source": [
    "def area(b,h):\n",
    "    result= (0.5)*b*h\n",
    "    return result\n",
    "\n",
    "base= float(input(\"Enter the base value of triangle : \"))\n",
    "height= float(input(\"Enter the height value of traiangle : \"))\n",
    "print(\"Area of the triangle is : \",area(base,height))"
   ]
  },
  {
   "cell_type": "markdown",
   "metadata": {},
   "source": [
    "## 4. Solve quadratic equation"
   ]
  },
  {
   "cell_type": "code",
   "execution_count": 6,
   "metadata": {},
   "outputs": [
    {
     "name": "stdout",
     "output_type": "stream",
     "text": [
      " Roots are : (-1.25-1.0307764064044151j) and (-1.25+1.0307764064044151j) \n"
     ]
    }
   ],
   "source": [
    "# quadratic equation  : ax^2 + bx + c\n",
    "# a,b,c are real numbers\n",
    "# a!=0\n",
    "import cmath\n",
    "\n",
    "a= int(input(\"Enter the value of 'a' : \"))\n",
    "b= int(input(\"Enter the value of 'b' : \"))\n",
    "c= int(input(\"Enter the value of 'c' : \"))\n",
    "\n",
    "if(a==0):\n",
    "    print(\"The value of 'a' should not be '0' \")\n",
    "else :\n",
    "    # calculate thee value of d \n",
    "    d= (b^2)-(4*a*c)\n",
    "\n",
    "    root1 = (-b-cmath.sqrt(d))/(2*a)\n",
    "    root2 = (-b+cmath.sqrt(d))/(2*a)\n",
    "    print(f\" Roots are : {root1} and {root2} \")"
   ]
  },
  {
   "cell_type": "markdown",
   "metadata": {},
   "source": [
    "## 5. Swap two variables"
   ]
  },
  {
   "cell_type": "code",
   "execution_count": 12,
   "metadata": {},
   "outputs": [
    {
     "name": "stdout",
     "output_type": "stream",
     "text": [
      "before swap : 5 , 3\n",
      "After swap : 3, 5\n"
     ]
    }
   ],
   "source": [
    "num1 = int(input(\"Enter the 1st number : \"))\n",
    "num2 =  int(input(\"Enter the 2nd number : \"))\n",
    "temp =0\n",
    "print(f\"before swap : {num1} , {num2}\")\n",
    "temp=num1\n",
    "num1 = num2\n",
    "num2= temp\n",
    "\n",
    "print(f\"After swap : {num1}, {num2}\")\n"
   ]
  },
  {
   "cell_type": "code",
   "execution_count": 1,
   "metadata": {},
   "outputs": [
    {
     "name": "stdout",
     "output_type": "stream",
     "text": [
      "before swap : 2 , 6\n",
      "After swap : 6, 2\n"
     ]
    }
   ],
   "source": [
    "# Without using third variable \n",
    "num1= int(input(\"Enter the 1st number : \"))\n",
    "num2= int(input(\"Enter the 2nd number : \"))\n",
    "print(f\"before swap : {num1} , {num2}\")\n",
    "num1,num2 = num2,num1\n",
    "print(f\"After swap : {num1}, {num2}\")\n"
   ]
  },
  {
   "cell_type": "code",
   "execution_count": null,
   "metadata": {},
   "outputs": [],
   "source": [
    "# Without using third variable \n",
    "num1= int(input(\"Enter the 1st number : \"))\n",
    "num2= int(input(\"Enter the 2nd number : \"))\n",
    "print(f\"before swap : {num1} , {num2}\")\n",
    "num1,num2 = num2,num1\n",
    "print(f\"After swap : {num1}, {num2}\")"
   ]
  }
 ],
 "metadata": {
  "kernelspec": {
   "display_name": "Python 3 (ipykernel)",
   "language": "python",
   "name": "python3"
  },
  "language_info": {
   "codemirror_mode": {
    "name": "ipython",
    "version": 3
   },
   "file_extension": ".py",
   "mimetype": "text/x-python",
   "name": "python",
   "nbconvert_exporter": "python",
   "pygments_lexer": "ipython3",
   "version": "3.10.13"
  }
 },
 "nbformat": 4,
 "nbformat_minor": 2
}

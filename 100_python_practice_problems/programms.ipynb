{
 "cells": [
  {
   "cell_type": "markdown",
   "metadata": {},
   "source": [
    "## 1. Add two Numbers"
   ]
  },
  {
   "cell_type": "code",
   "execution_count": 3,
   "metadata": {},
   "outputs": [
    {
     "name": "stdout",
     "output_type": "stream",
     "text": [
      "result :  55.0\n"
     ]
    }
   ],
   "source": [
    "num1= float(input(\"Enter first number : \"))\n",
    "num2= float(input(\"Enter second number : \"))\n",
    "result= num1+num2\n",
    "print(\"result : \", result)"
   ]
  },
  {
   "cell_type": "markdown",
   "metadata": {},
   "source": [
    "## 2. Find squre root value of a number "
   ]
  },
  {
   "cell_type": "code",
   "execution_count": 8,
   "metadata": {},
   "outputs": [
    {
     "name": "stdout",
     "output_type": "stream",
     "text": [
      "Result :  7.0\n"
     ]
    }
   ],
   "source": [
    "import math\n",
    "\n",
    "def sqr(n):\n",
    "    result = math.sqrt(n)\n",
    "    return result\n",
    "\n",
    "num = int(input(\"Enter a number : \"))\n",
    "print(\"Result : \",sqr(num))\n"
   ]
  },
  {
   "cell_type": "markdown",
   "metadata": {},
   "source": [
    "## 3. Calculate area of triangle "
   ]
  },
  {
   "cell_type": "code",
   "execution_count": 12,
   "metadata": {},
   "outputs": [
    {
     "name": "stdout",
     "output_type": "stream",
     "text": [
      "Area of the triangle is :  34.375\n"
     ]
    }
   ],
   "source": [
    "def area(b,h):\n",
    "    result= (0.5)*b*h\n",
    "    return result\n",
    "\n",
    "base= float(input(\"Enter the base value of triangle : \"))\n",
    "height= float(input(\"Enter the height value of traiangle : \"))\n",
    "print(\"Area of the triangle is : \",area(base,height))"
   ]
  },
  {
   "cell_type": "code",
   "execution_count": null,
   "metadata": {},
   "outputs": [],
   "source": []
  }
 ],
 "metadata": {
  "kernelspec": {
   "display_name": "Python 3",
   "language": "python",
   "name": "python3"
  },
  "language_info": {
   "codemirror_mode": {
    "name": "ipython",
    "version": 3
   },
   "file_extension": ".py",
   "mimetype": "text/x-python",
   "name": "python",
   "nbconvert_exporter": "python",
   "pygments_lexer": "ipython3",
   "version": "3.12.2"
  }
 },
 "nbformat": 4,
 "nbformat_minor": 2
}

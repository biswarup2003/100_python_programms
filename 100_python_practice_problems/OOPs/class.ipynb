{
 "cells": [
  {
   "cell_type": "code",
   "execution_count": 26,
   "metadata": {},
   "outputs": [
    {
     "ename": "TypeError",
     "evalue": "electriccar() takes 1 positional argument but 3 were given",
     "output_type": "error",
     "traceback": [
      "\u001b[1;31m---------------------------------------------------------------------------\u001b[0m",
      "\u001b[1;31mTypeError\u001b[0m                                 Traceback (most recent call last)",
      "Cell \u001b[1;32mIn[26], line 12\u001b[0m\n\u001b[0;32m      9\u001b[0m         \u001b[38;5;28msuper\u001b[39m()\u001b[38;5;241m.\u001b[39m\u001b[38;5;21m__init__\u001b[39m(brand, model)\n\u001b[0;32m     10\u001b[0m         \u001b[38;5;28mself\u001b[39m\u001b[38;5;241m.\u001b[39mbattery_size \u001b[38;5;241m=\u001b[39m battery_size\n\u001b[1;32m---> 12\u001b[0m my_electriccar\u001b[38;5;241m=\u001b[39m \u001b[43melectriccar\u001b[49m\u001b[43m(\u001b[49m\u001b[38;5;124;43m\"\u001b[39;49m\u001b[38;5;124;43mTesla\u001b[39;49m\u001b[38;5;124;43m\"\u001b[39;49m\u001b[43m,\u001b[49m\u001b[38;5;124;43m\"\u001b[39;49m\u001b[38;5;124;43mModel s \u001b[39;49m\u001b[38;5;124;43m\"\u001b[39;49m\u001b[43m,\u001b[49m\u001b[38;5;124;43m\"\u001b[39;49m\u001b[38;5;124;43m85 kWh\u001b[39;49m\u001b[38;5;124;43m\"\u001b[39;49m\u001b[43m)\u001b[49m\n\u001b[0;32m     13\u001b[0m \u001b[38;5;28mprint\u001b[39m(my_electriccar\u001b[38;5;241m.\u001b[39mmodel)\n\u001b[0;32m     15\u001b[0m my_car\u001b[38;5;241m=\u001b[39m Car(\u001b[38;5;124m\"\u001b[39m\u001b[38;5;124mtata\u001b[39m\u001b[38;5;124m\"\u001b[39m,\u001b[38;5;124m\"\u001b[39m\u001b[38;5;124mwinger\u001b[39m\u001b[38;5;124m\"\u001b[39m)\n",
      "\u001b[1;31mTypeError\u001b[0m: electriccar() takes 1 positional argument but 3 were given"
     ]
    }
   ],
   "source": [
    "class Car:\n",
    " def __init__(self, brand, model1):\n",
    "    self.brand = brand\n",
    "    self.model = model\n",
    "\n",
    "\n",
    "class ElectricCar(Car):\n",
    "    def __init__(self, brand, model, battery_size):\n",
    "        super().__init__(brand, model)\n",
    "        self.battery_size = battery_size\n",
    "\n",
    "my_electriccar= electriccar(\"Tesla\",\"Model s \",\"85 kWh\")\n",
    "print(my_electriccar.model)\n",
    "\n",
    "my_car= Car(\"tata\",\"winger\")\n",
    "print(my_car.model)"
   ]
  },
  {
   "cell_type": "markdown",
   "metadata": {},
   "source": [
    "## Inheritence"
   ]
  },
  {
   "cell_type": "code",
   "execution_count": 141,
   "metadata": {},
   "outputs": [
    {
     "name": "stdout",
     "output_type": "stream",
     "text": [
      "20\n"
     ]
    }
   ],
   "source": [
    "class details:\n",
    "    def __init__(self, name, age):\n",
    "        self.name=name\n",
    "        self.age=age\n",
    "    def fullname(self):\n",
    "        print(f\"{self.name} {self.age}\")\n",
    "\n",
    "class contact(details):\n",
    "    def __init__(self,name,age,phone):\n",
    "        super().__init__(name,age)\n",
    "        self.phone=phone\n",
    "            \n",
    "obj= contact(\"raju\",\"20\",\"6245451646\")\n",
    "print(obj.age)\n",
    "\n"
   ]
  },
  {
   "cell_type": "markdown",
   "metadata": {},
   "source": [
    "## create public method or attribute in class"
   ]
  },
  {
   "cell_type": "code",
   "execution_count": 21,
   "metadata": {},
   "outputs": [
    {
     "name": "stdout",
     "output_type": "stream",
     "text": [
      "2\n",
      "3\n",
      "Hello\n"
     ]
    }
   ],
   "source": [
    "class sum:\n",
    "    a=2\n",
    "    b=3\n",
    "    def calc():\n",
    "        return \"Hello\"\n",
    "\n",
    "print(sum.a)\n",
    "print(sum.b)\n",
    "print(sum.calc())\n"
   ]
  },
  {
   "cell_type": "markdown",
   "metadata": {},
   "source": [
    "## create object\n"
   ]
  },
  {
   "cell_type": "code",
   "execution_count": 17,
   "metadata": {},
   "outputs": [
    {
     "name": "stdout",
     "output_type": "stream",
     "text": [
      "2\n"
     ]
    }
   ],
   "source": [
    "obj=sum()\n",
    "print(obj.a)"
   ]
  },
  {
   "cell_type": "markdown",
   "metadata": {},
   "source": [
    "## create private method or attribute in class"
   ]
  },
  {
   "cell_type": "code",
   "execution_count": 13,
   "metadata": {},
   "outputs": [
    {
     "ename": "AttributeError",
     "evalue": "type object 'sum1' has no attribute 'calc1'",
     "output_type": "error",
     "traceback": [
      "\u001b[1;31m---------------------------------------------------------------------------\u001b[0m",
      "\u001b[1;31mAttributeError\u001b[0m                            Traceback (most recent call last)",
      "Cell \u001b[1;32mIn[13], line 6\u001b[0m\n\u001b[0;32m      4\u001b[0m     \u001b[38;5;28;01mdef\u001b[39;00m \u001b[38;5;21m__calc1\u001b[39m():\n\u001b[0;32m      5\u001b[0m         \u001b[38;5;28;01mreturn\u001b[39;00m \u001b[38;5;124m\"\u001b[39m\u001b[38;5;124mhello\u001b[39m\u001b[38;5;124m\"\u001b[39m\n\u001b[1;32m----> 6\u001b[0m \u001b[38;5;28mprint\u001b[39m(\u001b[43msum1\u001b[49m\u001b[38;5;241;43m.\u001b[39;49m\u001b[43mcalc1\u001b[49m())\n",
      "\u001b[1;31mAttributeError\u001b[0m: type object 'sum1' has no attribute 'calc1'"
     ]
    }
   ],
   "source": [
    "class sum1:\n",
    "    a=2\n",
    "    b=3\n",
    "    def __calc1():\n",
    "        return \"hello\"\n",
    "print(sum1.calc1())"
   ]
  },
  {
   "cell_type": "markdown",
   "metadata": {},
   "source": [
    "## use of constructor\n"
   ]
  },
  {
   "cell_type": "code",
   "execution_count": 126,
   "metadata": {},
   "outputs": [
    {
     "name": "stdout",
     "output_type": "stream",
     "text": [
      "PPP\n",
      "black\n",
      "Details of this car:\n",
      "Company: Ferrari\n",
      "Model: ABC\n",
      "Color: red\n",
      "Details of this car:\n",
      "Company: Alto\n",
      "Model: PPP\n",
      "Color: blue\n"
     ]
    }
   ],
   "source": [
    "class Car:\n",
    "    def __init__(self, company, model, color):\n",
    "        self.company = company\n",
    "        self.model = model\n",
    "        self.color = color\n",
    "\n",
    "    def details(self):\n",
    "        print(\n",
    "            f\"Details of this car:\\nCompany: {self.company}\\nModel: {self.model}\\nColor: {self.color}\"\n",
    "        )\n",
    "\n",
    "\n",
    "# Create instances of the Car class\n",
    "ferrari = Car(\"Ferrari\", \"ABC\", \"red\")\n",
    "alto = Car(\"Alto\", \"PPP\", \"blue\")\n",
    "splender = Car(\"Hero\", \"Splender\", \"black\")\n",
    "\n",
    "print(alto.model)\n",
    "print(splender.color)\n",
    "\n",
    "\n",
    "ferrari.details()\n",
    "alto.details()\n"
   ]
  },
  {
   "cell_type": "markdown",
   "metadata": {},
   "source": [
    "## inheritence"
   ]
  },
  {
   "cell_type": "code",
   "execution_count": 146,
   "metadata": {},
   "outputs": [
    {
     "name": "stdout",
     "output_type": "stream",
     "text": [
      "arpan 30 546443654 A+\n"
     ]
    }
   ],
   "source": [
    "class details:\n",
    "    def __init__(self, name, age):\n",
    "        self.name=name\n",
    "        self.age=age\n",
    "    def fullname(self):\n",
    "        print(f\"{self.name} {self.age} {self.phone} {self.blood}\")\n",
    "\n",
    "class contact(details):\n",
    "    def __init__(self,name,age,phone):\n",
    "        super().__init__(name,age)\n",
    "        self.phone=phone\n",
    "            \n",
    "class bloodgroup(contact):\n",
    "    def __init__(self, name, age, phone,blood):\n",
    "        super().__init__(name, age, phone)\n",
    "        self.blood=blood\n",
    "\n",
    "obj1=bloodgroup(\"arpan\",\"30\",\"546443654\",\"A+\")\n",
    "obj1.fullname()\n"
   ]
  },
  {
   "cell_type": "markdown",
   "metadata": {},
   "source": [
    "## OOPs Project (Student data management)"
   ]
  },
  {
   "cell_type": "code",
   "execution_count": null,
   "metadata": {},
   "outputs": [],
   "source": [
    "class student:\n",
    "    def __init__(self,roll_number,name,class_name):\n",
    "        self.roll_number=roll_number\n",
    "        self.name=name\n",
    "        self.class_name=class_name\n",
    "        self.marks={}\n",
    "    \n",
    "    def add_marks(self,subject,marks):\n",
    "        self.subject=subject\n",
    "        self.marks[subject]=marks\n",
    "        "
   ]
  }
 ],
 "metadata": {
  "kernelspec": {
   "display_name": "Python 3",
   "language": "python",
   "name": "python3"
  },
  "language_info": {
   "codemirror_mode": {
    "name": "ipython",
    "version": 3
   },
   "file_extension": ".py",
   "mimetype": "text/x-python",
   "name": "python",
   "nbconvert_exporter": "python",
   "pygments_lexer": "ipython3",
   "version": "3.12.5"
  }
 },
 "nbformat": 4,
 "nbformat_minor": 2
}

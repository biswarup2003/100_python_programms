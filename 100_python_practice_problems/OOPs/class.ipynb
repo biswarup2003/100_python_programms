{
 "cells": [
  {
   "cell_type": "code",
   "execution_count": 26,
   "metadata": {},
   "outputs": [
    {
     "ename": "TypeError",
     "evalue": "electriccar() takes 1 positional argument but 3 were given",
     "output_type": "error",
     "traceback": [
      "\u001b[1;31m---------------------------------------------------------------------------\u001b[0m",
      "\u001b[1;31mTypeError\u001b[0m                                 Traceback (most recent call last)",
      "Cell \u001b[1;32mIn[26], line 12\u001b[0m\n\u001b[0;32m      9\u001b[0m         \u001b[38;5;28msuper\u001b[39m()\u001b[38;5;241m.\u001b[39m\u001b[38;5;21m__init__\u001b[39m(brand, model)\n\u001b[0;32m     10\u001b[0m         \u001b[38;5;28mself\u001b[39m\u001b[38;5;241m.\u001b[39mbattery_size \u001b[38;5;241m=\u001b[39m battery_size\n\u001b[1;32m---> 12\u001b[0m my_electriccar\u001b[38;5;241m=\u001b[39m \u001b[43melectriccar\u001b[49m\u001b[43m(\u001b[49m\u001b[38;5;124;43m\"\u001b[39;49m\u001b[38;5;124;43mTesla\u001b[39;49m\u001b[38;5;124;43m\"\u001b[39;49m\u001b[43m,\u001b[49m\u001b[38;5;124;43m\"\u001b[39;49m\u001b[38;5;124;43mModel s \u001b[39;49m\u001b[38;5;124;43m\"\u001b[39;49m\u001b[43m,\u001b[49m\u001b[38;5;124;43m\"\u001b[39;49m\u001b[38;5;124;43m85 kWh\u001b[39;49m\u001b[38;5;124;43m\"\u001b[39;49m\u001b[43m)\u001b[49m\n\u001b[0;32m     13\u001b[0m \u001b[38;5;28mprint\u001b[39m(my_electriccar\u001b[38;5;241m.\u001b[39mmodel)\n\u001b[0;32m     15\u001b[0m my_car\u001b[38;5;241m=\u001b[39m Car(\u001b[38;5;124m\"\u001b[39m\u001b[38;5;124mtata\u001b[39m\u001b[38;5;124m\"\u001b[39m,\u001b[38;5;124m\"\u001b[39m\u001b[38;5;124mwinger\u001b[39m\u001b[38;5;124m\"\u001b[39m)\n",
      "\u001b[1;31mTypeError\u001b[0m: electriccar() takes 1 positional argument but 3 were given"
     ]
    }
   ],
   "source": [
    "class Car:\n",
    " def __init__(self, brand, model1):\n",
    "    self.brand = brand\n",
    "    self.model = model\n",
    "\n",
    "\n",
    "class ElectricCar(Car):\n",
    "    def __init__(self, brand, model, battery_size):\n",
    "        super().__init__(brand, model)\n",
    "        self.battery_size = battery_size\n",
    "\n",
    "my_electriccar= electriccar(\"Tesla\",\"Model s \",\"85 kWh\")\n",
    "print(my_electriccar.model)\n",
    "\n",
    "my_car= Car(\"tata\",\"winger\")\n",
    "print(my_car.model)"
   ]
  },
  {
   "cell_type": "code",
   "execution_count": 21,
   "metadata": {},
   "outputs": [
    {
     "name": "stdout",
     "output_type": "stream",
     "text": [
      "21\n",
      "Biswrup\n",
      "suman\n",
      "22\n",
      "suman22\n"
     ]
    }
   ],
   "source": [
    "class details:\n",
    "    def __init__(self, name, age):\n",
    "        details.name=name\n",
    "        details.age=age\n",
    "    def fullname(self):\n",
    "        return f\"{self.name}{self.age}\"\n",
    "\n",
    "my_details=details(\"Biswrup\",\"21\")\n",
    "print(my_details.age)\n",
    "print(my_details.name)\n",
    "my_details=details(\"suman\",\"22\")\n",
    "print(my_details.name)\n",
    "print(my_details.age)\n",
    "print(my_details.fullname())"
   ]
  },
  {
   "cell_type": "code",
   "execution_count": null,
   "metadata": {},
   "outputs": [],
   "source": []
  }
 ],
 "metadata": {
  "kernelspec": {
   "display_name": "Python 3",
   "language": "python",
   "name": "python3"
  },
  "language_info": {
   "codemirror_mode": {
    "name": "ipython",
    "version": 3
   },
   "file_extension": ".py",
   "mimetype": "text/x-python",
   "name": "python",
   "nbconvert_exporter": "python",
   "pygments_lexer": "ipython3",
   "version": "3.12.5"
  }
 },
 "nbformat": 4,
 "nbformat_minor": 2
}

{
 "cells": [
  {
   "cell_type": "code",
   "execution_count": 4,
   "id": "3f8665e6-f8cb-4adc-9a20-c68568cf1f0d",
   "metadata": {},
   "outputs": [
    {
     "name": "stdout",
     "output_type": "stream",
     "text": [
      "Output folder 'H:\\WORKSPACE\\test_output\\New folder' is ready.\n",
      "Processing file 'H:\\WORKSPACE\\test_output\\in\\IIMI_2236.txt'...\n",
      "File 'H:\\WORKSPACE\\test_output\\in\\IIMI_2236.txt' read successfully.\n",
      "Duplicate rows removed.\n",
      "Blank rows removed.\n",
      "'ImageType' column updated.\n",
      "'ImageType' column reinserted at the first position.\n",
      "File saved to 'H:\\WORKSPACE\\test_output\\New folder\\IIMI_2236.txt'.\n",
      "Processing file 'H:\\WORKSPACE\\test_output\\in\\IIMI_8569.txt'...\n",
      "File 'H:\\WORKSPACE\\test_output\\in\\IIMI_8569.txt' read successfully.\n",
      "Duplicate rows removed.\n",
      "Blank rows removed.\n",
      "'ImageType' column updated.\n",
      "'ImageType' column reinserted at the first position.\n",
      "File saved to 'H:\\WORKSPACE\\test_output\\New folder\\IIMI_8569.txt'.\n"
     ]
    }
   ],
   "source": [
    "import pandas as pd\n",
    "import os\n",
    "\n",
    "def process_files(input_folder, output_folder):\n",
    "    try:\n",
    "        # Ensure the output folder exists\n",
    "        os.makedirs(output_folder, exist_ok=True)\n",
    "        print(f\"Output folder '{output_folder}' is ready.\")\n",
    "        \n",
    "        # Process each text file in the input folder\n",
    "        for filename in os.listdir(input_folder):\n",
    "            if filename.endswith('.txt'):\n",
    "                input_file = os.path.join(input_folder, filename)\n",
    "                print(f\"Processing file '{input_file}'...\")\n",
    "                \n",
    "                # Read the input file with pipe separator\n",
    "                df = pd.read_csv(input_file, sep='|')\n",
    "                print(f\"File '{input_file}' read successfully.\")\n",
    "                \n",
    "                # Remove duplicate rows\n",
    "                df.drop_duplicates(inplace=True)\n",
    "                print(\"Duplicate rows removed.\")\n",
    "                \n",
    "                # Check if 'ImageType' column exists\n",
    "                if 'ImageType' in df.columns:\n",
    "                    # Remove blank rows\n",
    "                    df.dropna(how='all', inplace=True)\n",
    "                    print(\"Blank rows removed.\")\n",
    "                    \n",
    "                    # Update the 'ImageType' column\n",
    "                    df['ImageType'] = 'Passenger_list'\n",
    "                    print(\"'ImageType' column updated.\")\n",
    "                    \n",
    "                    # Ensure 'ImageType' column is at the first position\n",
    "                    ImageType_col = df.pop('ImageType')\n",
    "                    df.insert(0, 'ImageType', ImageType_col)\n",
    "                    print(\"'ImageType' column reinserted at the first position.\")\n",
    "                    \n",
    "                    # Create the output file path\n",
    "                    output_file = os.path.join(output_folder, filename)\n",
    "                    \n",
    "                    # Export to a pipe-separated text file\n",
    "                    df.to_csv(output_file, index=False, sep='|')\n",
    "                    print(f\"File saved to '{output_file}'.\")\n",
    "                else:\n",
    "                    print(f\"Error: 'ImageType' column not found in the file '{input_file}'.\")\n",
    "            else:\n",
    "                print(f\"Skipping '{filename}' as it is not a text file.\")\n",
    "        \n",
    "    except Exception as e:\n",
    "        print(f\"An error occurred: {e}\")\n",
    "\n",
    "# Example usage\n",
    "input_folder = r'H:\\WORKSPACE\\test_output\\in'\n",
    "output_folder = r'H:\\WORKSPACE\\test_output\\New folder'\n",
    "process_files(input_folder, output_folder)\n"
   ]
  },
  {
   "cell_type": "code",
   "execution_count": null,
   "id": "cdeb8dfb-66bb-4578-b29f-ab00f2326ead",
   "metadata": {},
   "outputs": [],
   "source": []
  }
 ],
 "metadata": {
  "kernelspec": {
   "display_name": "Python 3 (ipykernel)",
   "language": "python",
   "name": "python3"
  },
  "language_info": {
   "codemirror_mode": {
    "name": "ipython",
    "version": 3
   },
   "file_extension": ".py",
   "mimetype": "text/x-python",
   "name": "python",
   "nbconvert_exporter": "python",
   "pygments_lexer": "ipython3",
   "version": "3.12.4"
  }
 },
 "nbformat": 4,
 "nbformat_minor": 5
}

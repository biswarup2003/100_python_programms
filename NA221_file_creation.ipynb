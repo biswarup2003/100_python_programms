{
 "cells": [
  {
   "cell_type": "code",
   "execution_count": 1,
   "id": "354396cf-2411-4674-b8a5-957e63fab73e",
   "metadata": {},
   "outputs": [
    {
     "name": "stdout",
     "output_type": "stream",
     "text": [
      "Copied text file to: C:\\Users\\3452268\\Documents\\Biswarup\\test\\NA221\\output\\101691730.txt\n",
      "Copied text file to: C:\\Users\\3452268\\Documents\\Biswarup\\test\\NA221\\output\\101691731.txt\n",
      "Copied text file to: C:\\Users\\3452268\\Documents\\Biswarup\\test\\NA221\\output\\101691734.txt\n",
      "Copied text file to: C:\\Users\\3452268\\Documents\\Biswarup\\test\\NA221\\output\\101691735.txt\n",
      "Copied text file to: C:\\Users\\3452268\\Documents\\Biswarup\\test\\NA221\\output\\101691737.txt\n",
      "Copied text file to: C:\\Users\\3452268\\Documents\\Biswarup\\test\\NA221\\output\\101691738.txt\n",
      "Copied text file to: C:\\Users\\3452268\\Documents\\Biswarup\\test\\NA221\\output\\101691739.txt\n",
      "Copied text file to: C:\\Users\\3452268\\Documents\\Biswarup\\test\\NA221\\output\\101691740.txt\n",
      "Copied text file to: C:\\Users\\3452268\\Documents\\Biswarup\\test\\NA221\\output\\101691741.txt\n",
      "Copied text file to: C:\\Users\\3452268\\Documents\\Biswarup\\test\\NA221\\output\\101691742.txt\n",
      "Copied text file to: C:\\Users\\3452268\\Documents\\Biswarup\\test\\NA221\\output\\101691743.txt\n",
      "Copied text file to: C:\\Users\\3452268\\Documents\\Biswarup\\test\\NA221\\output\\101691745.txt\n",
      "Copied text file to: C:\\Users\\3452268\\Documents\\Biswarup\\test\\NA221\\output\\101691747.txt\n",
      "Copied text file to: C:\\Users\\3452268\\Documents\\Biswarup\\test\\NA221\\output\\101743628.txt\n",
      "Copied text file to: C:\\Users\\3452268\\Documents\\Biswarup\\test\\NA221\\output\\101743630.txt\n",
      "Copied text file to: C:\\Users\\3452268\\Documents\\Biswarup\\test\\NA221\\output\\101743632.txt\n",
      "Copied text file to: C:\\Users\\3452268\\Documents\\Biswarup\\test\\NA221\\output\\101743633.txt\n"
     ]
    }
   ],
   "source": [
    "import os\n",
    "import shutil\n",
    "\n",
    "def copy_text_file_to_folders(text_file_path, parent_folder, output_folder):\n",
    "    # Ensure the text file exists\n",
    "    if not os.path.exists(text_file_path):\n",
    "        print(f\"Error: The text file at {text_file_path} does not exist.\")\n",
    "        return\n",
    "    \n",
    "    # Ensure the parent folder exists\n",
    "    if not os.path.isdir(parent_folder):\n",
    "        print(f\"Error: The parent folder at {parent_folder} does not exist.\")\n",
    "        return\n",
    "\n",
    "    # Ensure the output folder exists, if not create it\n",
    "    if not os.path.exists(output_folder):\n",
    "        print(f\"Output folder does not exist. Creating it: {output_folder}\")\n",
    "        os.makedirs(output_folder)\n",
    "\n",
    "    # Get the list of folders in the parent folder\n",
    "    folders = [f for f in os.listdir(parent_folder) if os.path.isdir(os.path.join(parent_folder, f))]\n",
    "    if not folders:\n",
    "        print(\"No folders found in the specified location.\")\n",
    "        return\n",
    "\n",
    "    # Copy the text file into each folder and rename it based on the folder's name\n",
    "    for folder in folders:\n",
    "        folder_path = os.path.join(parent_folder, folder)\n",
    "        new_file_path = os.path.join(output_folder, f\"{folder}.txt\")\n",
    "        \n",
    "        try:\n",
    "            shutil.copy(text_file_path, new_file_path)\n",
    "            print(f\"Copied text file to: {new_file_path}\")\n",
    "        except Exception as e:\n",
    "            print(f\"Failed to copy to {folder}: {e}\")\n",
    "\n",
    "# Example usage:\n",
    "text_file_path = r'C:\\Users\\3452268\\Documents\\Biswarup\\na221\\headertemplate.txt'  \n",
    "parent_folder = r'C:\\Users\\3452268\\Documents\\Biswarup\\test\\NA221\\input'  \n",
    "output_folder = r'C:\\Users\\3452268\\Documents\\Biswarup\\test\\NA221\\output' \n",
    "\n",
    "copy_text_file_to_folders(text_file_path, parent_folder, output_folder)\n"
   ]
  },
  {
   "cell_type": "code",
   "execution_count": null,
   "id": "8d1bdbba-ffd4-4525-9fde-0443027db21a",
   "metadata": {},
   "outputs": [],
   "source": []
  }
 ],
 "metadata": {
  "kernelspec": {
   "display_name": "Python 3 (ipykernel)",
   "language": "python",
   "name": "python3"
  },
  "language_info": {
   "codemirror_mode": {
    "name": "ipython",
    "version": 3
   },
   "file_extension": ".py",
   "mimetype": "text/x-python",
   "name": "python",
   "nbconvert_exporter": "python",
   "pygments_lexer": "ipython3",
   "version": "3.8.20"
  }
 },
 "nbformat": 4,
 "nbformat_minor": 5
}
